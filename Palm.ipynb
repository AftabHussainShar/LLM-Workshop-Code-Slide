{
  "nbformat": 4,
  "nbformat_minor": 0,
  "metadata": {
    "colab": {
      "provenance": [],
      "gpuType": "T4"
    },
    "kernelspec": {
      "name": "python3",
      "display_name": "Python 3"
    },
    "language_info": {
      "name": "python"
    },
    "accelerator": "GPU"
  },
  "cells": [
    {
      "cell_type": "code",
      "execution_count": null,
      "metadata": {
        "colab": {
          "base_uri": "https://localhost:8080/"
        },
        "id": "Y1ymmwDAN9Eg",
        "outputId": "d0a24209-3820-47e8-b549-f8f7cbd2bf69"
      },
      "outputs": [
        {
          "output_type": "stream",
          "name": "stdout",
          "text": [
            "\u001b[?25l     \u001b[90m━━━━━━━━━━━━━━━━━━━━━━━━━━━━━━━━━━━━━━━━\u001b[0m \u001b[32m0.0/137.4 kB\u001b[0m \u001b[31m?\u001b[0m eta \u001b[36m-:--:--\u001b[0m\r\u001b[2K     \u001b[91m━━━━━━━━━━━━━━━━━━━━\u001b[0m\u001b[91m╸\u001b[0m\u001b[90m━━━━━━━━━━━━━━━━━━━\u001b[0m \u001b[32m71.7/137.4 kB\u001b[0m \u001b[31m2.0 MB/s\u001b[0m eta \u001b[36m0:00:01\u001b[0m\r\u001b[2K     \u001b[90m━━━━━━━━━━━━━━━━━━━━━━━━━━━━━━━━━━━━━━━━\u001b[0m \u001b[32m137.4/137.4 kB\u001b[0m \u001b[31m2.6 MB/s\u001b[0m eta \u001b[36m0:00:00\u001b[0m\n",
            "\u001b[?25h"
          ]
        }
      ],
      "source": [
        "!pip install -q -U google-generativeai"
      ]
    },
    {
      "cell_type": "code",
      "source": [
        "import pathlib\n",
        "import textwrap\n",
        "\n",
        "import google.generativeai as genai\n",
        "\n",
        "# Used to securely store your API key\n",
        "from google.colab import userdata\n",
        "\n",
        "from IPython.display import display\n",
        "from IPython.display import Markdown\n",
        "\n",
        "\n",
        "def to_markdown(text):\n",
        "  text = text.replace('•', '  *')\n",
        "  return Markdown(textwrap.indent(text, '> ', predicate=lambda _: True))\n",
        "\n",
        "\n",
        "GOOGLE_API_KEY=userdata.get('demo')\n",
        "\n",
        "genai.configure(api_key=GOOGLE_API_KEY)"
      ],
      "metadata": {
        "id": "-4WxpjNhOEYd"
      },
      "execution_count": null,
      "outputs": []
    },
    {
      "cell_type": "code",
      "source": [
        "# for models in genai.list_models():\n",
        "#   print(models.name)"
      ],
      "metadata": {
        "id": "qUv9ApcxOY_O"
      },
      "execution_count": null,
      "outputs": []
    },
    {
      "cell_type": "code",
      "source": [
        "model_id = \"models/text-bison-001\"\n",
        "prompt='''write a cover letter for a data science job applicaton.\n",
        "Summarize it to two paragraphs of 50 words each. '''\n",
        "\n",
        "completion=genai.generate_text(\n",
        "    model=model_id,\n",
        "    prompt=prompt,\n",
        "    temperature=0.99,\n",
        "    max_output_tokens=800,\n",
        ")\n",
        "\n",
        "print(completion.result)"
      ],
      "metadata": {
        "colab": {
          "base_uri": "https://localhost:8080/",
          "height": 252
        },
        "id": "59n43NJuOkRM",
        "outputId": "bc8beca2-04ed-4641-81c7-7076c5f15f8c"
      },
      "execution_count": null,
      "outputs": [
        {
          "output_type": "stream",
          "name": "stdout",
          "text": [
            "Dear [Hiring Manager name],\n",
            "\n",
            "I am writing to express my interest in the Data Scientist position at [Company name]. I have been working as a Data Scientist for the past 5 years, and I have a strong track record of success in developing and implementing data-driven solutions.\n",
            "\n",
            "In my previous role at [Previous company name], I was responsible for developing and maintaining the company's data warehouse. I also worked on a variety of projects, including developing predictive models for customer churn, optimizing marketing campaigns, and identifying new business opportunities. I am proficient in a variety of data science tools and technologies, including Hadoop, Spark, Hive, Pig, R, Python, and Tableau.\n",
            "\n",
            "I am a highly motivated and results-oriented individual with a strong passion for data science. I am confident that I have the skills and experience that you are looking for in a Data Scientist. I am eager to learn more about the Data Scientist position at [Company name], and I am confident that I would be a valuable asset to your team.\n",
            "\n",
            "Thank you for your time and consideration. I look forward to hearing from you soon.\n",
            "\n",
            "Sincerely,\n",
            "[Your name]\n"
          ]
        }
      ]
    },
    {
      "cell_type": "code",
      "source": [
        "\n",
        "# Google Palm is multilingual. It supports English, Spanish, French, German, Japanese, Korean, and Chinese."
      ],
      "metadata": {
        "id": "4pEvmsmXP4c7"
      },
      "execution_count": null,
      "outputs": []
    },
    {
      "cell_type": "code",
      "source": [
        "model_id=\"models/chat-bison-001\"\n",
        "\n",
        "prompt='I need help with a job interview for a data analyst job. Can you help me?'\n",
        "\n",
        "context = f\"\"\"\n",
        "Reply with only correct answer if you don't know the answer reply \"Out of Context\".\n",
        "Question: {prompt}\n",
        "Answer:\n",
        "\"\"\"\n",
        "\n",
        "response=genai.chat(\n",
        "    model=model_id,\n",
        "    messages=prompt,\n",
        "    temperature=0.2,\n",
        "    context=context,\n",
        ")\n",
        "\n",
        "while True:\n",
        "  user = input(\"User: \")\n",
        "  if user == 'quit':\n",
        "    break\n",
        "  response=response.reply(user)\n",
        "  print(\"Assistant: \", response.last)"
      ],
      "metadata": {
        "id": "dPxgJ6CXOw_T"
      },
      "execution_count": null,
      "outputs": []
    }
  ]
}